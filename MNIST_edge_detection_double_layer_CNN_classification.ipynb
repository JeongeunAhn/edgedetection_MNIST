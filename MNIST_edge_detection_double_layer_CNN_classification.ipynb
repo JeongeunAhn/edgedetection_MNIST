{
  "nbformat": 4,
  "nbformat_minor": 0,
  "metadata": {
    "colab": {
      "name": "MNIST edge detection double layer CNN classification.ipynb",
      "version": "0.3.2",
      "provenance": [],
      "collapsed_sections": [],
      "include_colab_link": true
    },
    "kernelspec": {
      "name": "python3",
      "display_name": "Python 3"
    },
    "accelerator": "GPU"
  },
  "cells": [
    {
      "cell_type": "markdown",
      "metadata": {
        "id": "view-in-github",
        "colab_type": "text"
      },
      "source": [
        "<a href=\"https://colab.research.google.com/github/JeongeunAhn/edgedetection_MNIST/blob/master/MNIST_edge_detection_double_layer_CNN_classification.ipynb\" target=\"_parent\"><img src=\"https://colab.research.google.com/assets/colab-badge.svg\" alt=\"Open In Colab\"/></a>"
      ]
    },
    {
      "metadata": {
        "id": "rE4tQuAJajdN",
        "colab_type": "text"
      },
      "cell_type": "markdown",
      "source": [
        "**[CNN-01]** 필요한 모듈을 임포트하고 난수의 시드를 설정한다."
      ]
    },
    {
      "metadata": {
        "id": "KvMXXmfTajdS",
        "colab_type": "code",
        "colab": {}
      },
      "cell_type": "code",
      "source": [
        "import tensorflow as tf\n",
        "import numpy as np\n",
        "import matplotlib.pyplot as plt\n",
        "import time\n",
        "from tensorflow.examples.tutorials.mnist import input_data\n",
        "\n",
        "np.random.seed(20160704)\n",
        "tf.set_random_seed(20160704)"
      ],
      "execution_count": 0,
      "outputs": []
    },
    {
      "metadata": {
        "id": "ou_pBlc4ajde",
        "colab_type": "text"
      },
      "cell_type": "markdown",
      "source": [
        "**[CNN-02]** MNIST 데이터 세트를 준비한다."
      ]
    },
    {
      "metadata": {
        "id": "Crd0cigDajdh",
        "colab_type": "code",
        "outputId": "a354c15e-7a11-49da-d45d-f93a31845442",
        "colab": {
          "base_uri": "https://localhost:8080/",
          "height": 89
        }
      },
      "cell_type": "code",
      "source": [
        "mnist = input_data.read_data_sets(\"/tmp/data/\", one_hot=True)"
      ],
      "execution_count": 0,
      "outputs": [
        {
          "output_type": "stream",
          "text": [
            "Extracting /tmp/data/train-images-idx3-ubyte.gz\n",
            "Extracting /tmp/data/train-labels-idx1-ubyte.gz\n",
            "Extracting /tmp/data/t10k-images-idx3-ubyte.gz\n",
            "Extracting /tmp/data/t10k-labels-idx1-ubyte.gz\n"
          ],
          "name": "stdout"
        }
      ]
    },
    {
      "metadata": {
        "id": "Vyz5RFk8m0Wr",
        "colab_type": "text"
      },
      "cell_type": "markdown",
      "source": [
        "[edge detector]필터 정보를 저장한 다차원 리스트를 만드는 함수를 준비한다."
      ]
    },
    {
      "metadata": {
        "id": "bxzhMLhImyup",
        "colab_type": "code",
        "colab": {}
      },
      "cell_type": "code",
      "source": [
        "def edge_filter():\n",
        "    filter0 = np.array(\n",
        "            [[ 2, 1, 0,-1,-2],\n",
        "             [ 3, 2, 0,-2,-3],\n",
        "             [ 4, 3, 0,-3,-4],\n",
        "             [ 3, 2, 0,-2,-3],\n",
        "             [ 2, 1, 0,-1,-2]]) / 23.0\n",
        "    filter1 = np.array(\n",
        "            [[ 2, 3, 4, 3, 2],\n",
        "             [ 1, 2, 3, 2, 1],\n",
        "             [ 0, 0, 0, 0, 0],\n",
        "             [-1,-2,-3,-2,-1],\n",
        "             [-2,-3,-4,-3,-2]]) / 23.0\n",
        "    \n",
        "    filter_array = np.zeros([5,5,1,2])\n",
        "    filter_array[:,:,0,0] = filter0\n",
        "    filter_array[:,:,0,1] = filter1\n",
        "\n",
        "    return tf.constant(filter_array, dtype=tf.float32)"
      ],
      "execution_count": 0,
      "outputs": []
    },
    {
      "metadata": {
        "id": "xL7wxgIXnvfV",
        "colab_type": "text"
      },
      "cell_type": "markdown",
      "source": [
        "**[OFE-05]** 이미지 데이터에 필터를 적용하는 계산식을 준비한다.\n",
        "x_image : 입력데이터. 이미지의 크기는 28x28이고, 레이어 개수는 1\n",
        "pooling 후 14x14"
      ]
    },
    {
      "metadata": {
        "id": "ToC03x7Knw7Q",
        "colab_type": "code",
        "colab": {}
      },
      "cell_type": "code",
      "source": [
        "x = tf.placeholder(tf.float32, [None, 784])\n",
        "x_image = tf.reshape(x, [-1,28,28,1])\n",
        "\n",
        "W_conv = edge_filter()\n",
        "h_conv = tf.abs(tf.nn.conv2d(x_image, W_conv,\n",
        "                             strides=[1,1,1,1], padding='SAME'))\n",
        "h_conv_cutoff = tf.nn.relu(h_conv-0.2)\n",
        "\n",
        "#h_pool =tf.nn.max_pool(h_conv_cutoff, ksize=[1,2,2,1],\n",
        "#                       strides=[1,2,2,1], padding='SAME')\n"
      ],
      "execution_count": 0,
      "outputs": []
    },
    {
      "metadata": {
        "id": "-m8VlkBFajdq",
        "colab_type": "text"
      },
      "cell_type": "markdown",
      "source": [
        "**[CNN-03]** 첫 번째 단계의 합성곱 필터와 풀링 계층을 정의한다."
      ]
    },
    {
      "metadata": {
        "id": "gtZo6DaKajds",
        "colab_type": "code",
        "colab": {}
      },
      "cell_type": "code",
      "source": [
        "num_filters1 = 64\n",
        "\n",
        "W_conv1 = tf.Variable(tf.truncated_normal([5,5,2,num_filters1],\n",
        "                                          stddev=0.1))\n",
        "h_conv1 = tf.nn.conv2d(h_conv_cutoff, W_conv1,\n",
        "                       strides=[1,1,1,1], padding='SAME')\n",
        "\n",
        "b_conv1 = tf.Variable(tf.constant(0.1, shape=[num_filters1]))\n",
        "h_conv1_cutoff = tf.nn.relu(h_conv1 + b_conv1)\n",
        "\n",
        "h_pool1 = tf.nn.max_pool(h_conv1_cutoff, ksize=[1,2,2,1],\n",
        "                         strides=[1,2,2,1], padding='SAME')"
      ],
      "execution_count": 0,
      "outputs": []
    },
    {
      "metadata": {
        "id": "0Mi6tfCTajdx",
        "colab_type": "text"
      },
      "cell_type": "markdown",
      "source": [
        "**[CNN-04]** 두 번째 단계의 합성곱 필터와 풀링 계층을 정의한다."
      ]
    },
    {
      "metadata": {
        "id": "3GlXxoU1ajdy",
        "colab_type": "code",
        "colab": {}
      },
      "cell_type": "code",
      "source": [
        "num_filters2 = 32\n",
        "\n",
        "W_conv2 = tf.Variable(\n",
        "            tf.truncated_normal([5,5,num_filters1,num_filters2],\n",
        "                                stddev=0.1))\n",
        "h_conv2 = tf.nn.conv2d(h_pool1, W_conv2,\n",
        "                       strides=[1,1,1,1], padding='SAME')\n",
        "\n",
        "b_conv2 = tf.Variable(tf.constant(0.1, shape=[num_filters2]))\n",
        "h_conv2_cutoff = tf.nn.relu(h_conv2 + b_conv2)\n",
        "\n",
        "h_pool2 = tf.nn.max_pool(h_conv2_cutoff, ksize=[1,2,2,1],\n",
        "                         strides=[1,2,2,1], padding='SAME')"
      ],
      "execution_count": 0,
      "outputs": []
    },
    {
      "metadata": {
        "id": "psdfAdcJajd1",
        "colab_type": "text"
      },
      "cell_type": "markdown",
      "source": [
        "**[CNN-05]** 전 결합층, 드롭아웃 계층, 소프트맥스 함수를 정의한다."
      ]
    },
    {
      "metadata": {
        "id": "mWTZxIXMajd3",
        "colab_type": "code",
        "colab": {}
      },
      "cell_type": "code",
      "source": [
        "h_pool2_flat = tf.reshape(h_pool2, [-1, 7*7*num_filters2])\n",
        "\n",
        "num_units1 = 7*7*num_filters2\n",
        "num_units2 = 1024\n",
        "\n",
        "w2 = tf.Variable(tf.truncated_normal([num_units1, num_units2]))\n",
        "b2 = tf.Variable(tf.constant(0.1, shape=[num_units2]))\n",
        "hidden2 = tf.nn.relu(tf.matmul(h_pool2_flat, w2) + b2)\n",
        "\n",
        "keep_prob = tf.placeholder(tf.float32)\n",
        "hidden2_drop = tf.nn.dropout(hidden2, keep_prob)\n",
        "\n",
        "w0 = tf.Variable(tf.zeros([num_units2, 10]))\n",
        "b0 = tf.Variable(tf.zeros([10]))\n",
        "p = tf.nn.softmax(tf.matmul(hidden2_drop, w0) + b0)"
      ],
      "execution_count": 0,
      "outputs": []
    },
    {
      "metadata": {
        "id": "ivKFHC7Tajd7",
        "colab_type": "text"
      },
      "cell_type": "markdown",
      "source": [
        "**[CNN-06]** 오차 함수 loss, 트레이닝 알고리즘 train_step, 정답률 accuracy을 정의한다."
      ]
    },
    {
      "metadata": {
        "id": "U-LKCciYajd8",
        "colab_type": "code",
        "colab": {}
      },
      "cell_type": "code",
      "source": [
        "t = tf.placeholder(tf.float32, [None, 10])\n",
        "loss = -tf.reduce_sum(t * tf.log(p))\n",
        "train_step = tf.train.AdamOptimizer(0.0001).minimize(loss)\n",
        "correct_prediction = tf.equal(tf.argmax(p, 1), tf.argmax(t, 1))\n",
        "accuracy = tf.reduce_mean(tf.cast(correct_prediction, tf.float32))"
      ],
      "execution_count": 0,
      "outputs": []
    },
    {
      "metadata": {
        "id": "a7n_6kX4ajeA",
        "colab_type": "text"
      },
      "cell_type": "markdown",
      "source": [
        "**[CNN-07]** 세션을 준비하고 Variable을 초기화한다."
      ]
    },
    {
      "metadata": {
        "id": "QuHzYH9SajeA",
        "colab_type": "code",
        "outputId": "3a38ec7a-7ad8-4564-fc12-d5647dee890c",
        "colab": {
          "base_uri": "https://localhost:8080/",
          "height": 73
        }
      },
      "cell_type": "code",
      "source": [
        "sess = tf.InteractiveSession()\n",
        "sess.run(tf.global_variables_initializer())\n",
        "saver = tf.train.Saver()"
      ],
      "execution_count": 0,
      "outputs": [
        {
          "output_type": "stream",
          "text": [
            "/usr/local/lib/python3.6/dist-packages/tensorflow/python/client/session.py:1702: UserWarning: An interactive session is already active. This can cause out-of-memory errors in some cases. You must explicitly call `InteractiveSession.close()` to release resources held by the other session(s).\n",
            "  warnings.warn('An interactive session is already active. This can '\n"
          ],
          "name": "stderr"
        }
      ]
    },
    {
      "metadata": {
        "id": "9n7wxQv-ajeF",
        "colab_type": "text"
      },
      "cell_type": "markdown",
      "source": [
        "**[CNN-08]** 파라미터 최적화를 20000회 반복한다.\n",
        "\n",
        "최종적으로 테스트 세트에 대해 약 99%의 정답률을 얻을 수 있다."
      ]
    },
    {
      "metadata": {
        "id": "MSOHZPM8ajeG",
        "colab_type": "code",
        "outputId": "0ed57eb4-93c9-4c80-ef2c-b0ee8614bb3d",
        "colab": {
          "base_uri": "https://localhost:8080/",
          "height": 755
        }
      },
      "cell_type": "code",
      "source": [
        "i = 0\n",
        "start_vect=time.time()\n",
        "for _ in range(20000):\n",
        "    i += 1\n",
        "    batch_xs, batch_ts = mnist.train.next_batch(50)\n",
        "    sess.run(train_step,\n",
        "             feed_dict={x:batch_xs, t:batch_ts, keep_prob:0.5})\n",
        "    if i % 500 == 0:\n",
        "        loss_vals, acc_vals = [], []\n",
        "        for c in range(4):\n",
        "            start = len(mnist.test.labels) // 4 * c\n",
        "            end = len(mnist.test.labels) // 4 * (c+1)\n",
        "            loss_val, acc_val = sess.run([loss, accuracy],\n",
        "                feed_dict={x:mnist.test.images[start:end],\n",
        "                           t:mnist.test.labels[start:end],\n",
        "                           keep_prob:1.0})\n",
        "            loss_vals.append(loss_val)\n",
        "            acc_vals.append(acc_val)\n",
        "        loss_val = np.sum(loss_vals)\n",
        "        acc_val = np.mean(acc_vals)\n",
        "        print (' %d,  %f, %f'\n",
        "               % (i, loss_val, acc_val))\n",
        "        saver.save(sess, './cnn_session', global_step=i)\n",
        "print(\"training Runtime: %0.2f Minutes\"%((time.time() - start_vect)/60))"
      ],
      "execution_count": 0,
      "outputs": [
        {
          "output_type": "stream",
          "text": [
            " 500,  2533.873535, 0.922900\n",
            " 1000,  1828.822876, 0.943800\n",
            " 1500,  1419.952515, 0.958100\n",
            " 2000,  1215.441162, 0.961400\n",
            " 2500,  1072.084961, 0.965100\n",
            " 3000,  1027.372681, 0.966900\n",
            " 3500,  882.474548, 0.970700\n",
            " 4000,  851.102661, 0.972600\n",
            " 4500,  797.994324, 0.975000\n",
            " 5000,  834.413025, 0.971600\n",
            " 5500,  724.399719, 0.976500\n",
            " 6000,  713.550354, 0.976800\n",
            " 6500,  637.223694, 0.979100\n",
            " 7000,  697.147949, 0.977500\n",
            " 7500,  642.250122, 0.977100\n",
            " 8000,  684.412170, 0.978000\n",
            " 8500,  560.065796, 0.981600\n",
            " 9000,  565.792603, 0.980600\n",
            " 9500,  666.611572, 0.978900\n",
            " 10000,  563.484863, 0.982200\n",
            " 10500,  577.681641, 0.982200\n",
            " 11000,  570.229004, 0.981300\n",
            " 11500,  560.126770, 0.981300\n",
            " 12000,  541.362244, 0.981300\n",
            " 12500,  531.623596, 0.983900\n",
            " 13000,  491.855896, 0.984000\n",
            " 13500,  495.611023, 0.983300\n",
            " 14000,  509.355652, 0.983000\n",
            " 14500,  487.979584, 0.983300\n",
            " 15000,  473.656097, 0.983100\n",
            " 15500,  500.640533, 0.983500\n",
            " 16000,  478.444733, 0.984500\n",
            " 16500,  469.383057, 0.984800\n",
            " 17000,  502.013031, 0.984600\n",
            " 17500,  477.618958, 0.984400\n",
            " 18000,  465.548248, 0.984300\n",
            " 18500,  505.038208, 0.983800\n",
            " 19000,  453.359528, 0.985600\n",
            " 19500,  455.148407, 0.984600\n",
            " 20000,  456.411499, 0.983900\n",
            "training Runtime: 3.56 Minutes\n"
          ],
          "name": "stdout"
        }
      ]
    },
    {
      "metadata": {
        "id": "ofOTq5kvajeK",
        "colab_type": "text"
      },
      "cell_type": "markdown",
      "source": [
        "**[CNN-09]** 세션 정보를 저장한 파일이 생성되고 있음을 확인한다."
      ]
    },
    {
      "metadata": {
        "id": "XIzx_niOajeL",
        "colab_type": "code",
        "outputId": "f722e5c2-e184-42e3-f712-c177469200ff",
        "colab": {
          "base_uri": "https://localhost:8080/",
          "height": 161
        }
      },
      "cell_type": "code",
      "source": [
        "!ls cnn_session*"
      ],
      "execution_count": 0,
      "outputs": [
        {
          "output_type": "stream",
          "text": [
            "cnn_session-18000.data-00000-of-00001  cnn_session-19000.meta\n",
            "cnn_session-18000.index\t\t       cnn_session-19500.data-00000-of-00001\n",
            "cnn_session-18000.meta\t\t       cnn_session-19500.index\n",
            "cnn_session-18500.data-00000-of-00001  cnn_session-19500.meta\n",
            "cnn_session-18500.index\t\t       cnn_session-20000.data-00000-of-00001\n",
            "cnn_session-18500.meta\t\t       cnn_session-20000.index\n",
            "cnn_session-19000.data-00000-of-00001  cnn_session-20000.meta\n",
            "cnn_session-19000.index\n"
          ],
          "name": "stdout"
        }
      ]
    }
  ]
}